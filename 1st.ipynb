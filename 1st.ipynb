{
 "cells": [
  {
   "cell_type": "code",
   "execution_count": 10,
   "id": "f919ce17",
   "metadata": {},
   "outputs": [
    {
     "name": "stdout",
     "output_type": "stream",
     "text": [
      "The first  duplicate is: \n",
      "1\n"
     ]
    }
   ],
   "source": [
    "lst = [1,2,3,2,1]    \n",
    "     \n",
    "print(\"The first  duplicate is: \");    \n",
    "#print the duplicate element    \n",
    "for i in range(0, len(lst)):    \n",
    "    for j in range(i+1, len(lst)):    \n",
    "        if(lst[i] == lst[j]):    \n",
    "            print(lst[j])\n",
    "    break"
   ]
  },
  {
   "cell_type": "code",
   "execution_count": 7,
   "id": "3d071870",
   "metadata": {},
   "outputs": [
    {
     "name": "stdout",
     "output_type": "stream",
     "text": [
      "1 is the first occurrence of a duplicate in a given array and occurred :  2\n"
     ]
    }
   ],
   "source": [
    "lst = [1,2,3,2,1]\n",
    "\n",
    "for i in lst:\n",
    "    occurrences = lst.count(i)\n",
    "    if occurrences > 1:\n",
    "        print(i, \"is the first occurrence of a duplicate in a given array and occurred : \", occurrences)\n",
    "        break\n",
    "    else:\n",
    "        print(\"There is no duplicate in a given array\")"
   ]
  },
  {
   "cell_type": "code",
   "execution_count": null,
   "id": "c1170a66",
   "metadata": {},
   "outputs": [],
   "source": []
  }
 ],
 "metadata": {
  "kernelspec": {
   "display_name": "Python 3",
   "language": "python",
   "name": "python3"
  },
  "language_info": {
   "codemirror_mode": {
    "name": "ipython",
    "version": 3
   },
   "file_extension": ".py",
   "mimetype": "text/x-python",
   "name": "python",
   "nbconvert_exporter": "python",
   "pygments_lexer": "ipython3",
   "version": "3.8.8"
  }
 },
 "nbformat": 4,
 "nbformat_minor": 5
}
