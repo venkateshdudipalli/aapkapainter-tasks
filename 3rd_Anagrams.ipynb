{
 "cells": [
  {
   "cell_type": "code",
   "execution_count": 6,
   "id": "494afb46",
   "metadata": {},
   "outputs": [
    {
     "name": "stdout",
     "output_type": "stream",
     "text": [
      "Mary and Army are anagram.\n"
     ]
    }
   ],
   "source": [
    "s1 = 'Mary'\n",
    "s2 = 'Army'\n",
    "\n",
    "s1_lower = s1.lower()\n",
    "s2_lower = s2.lower()\n",
    "\n",
    "if len(s1_lower) == len(s2_lower):\n",
    "    if sorted(s1_lower) == sorted(s2_lower):\n",
    "        print(s1 + ' and ' + s2 + ' are anagram.')\n",
    "\n",
    "    else:\n",
    "        print(s1 + ' and ' + s2 + ' are not anagram.')"
   ]
  },
  {
   "cell_type": "code",
   "execution_count": null,
   "id": "ae285fc8",
   "metadata": {},
   "outputs": [],
   "source": []
  }
 ],
 "metadata": {
  "kernelspec": {
   "display_name": "Python 3",
   "language": "python",
   "name": "python3"
  },
  "language_info": {
   "codemirror_mode": {
    "name": "ipython",
    "version": 3
   },
   "file_extension": ".py",
   "mimetype": "text/x-python",
   "name": "python",
   "nbconvert_exporter": "python",
   "pygments_lexer": "ipython3",
   "version": "3.8.8"
  }
 },
 "nbformat": 4,
 "nbformat_minor": 5
}
